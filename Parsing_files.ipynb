{
  "nbformat": 4,
  "nbformat_minor": 0,
  "metadata": {
    "colab": {
      "name": "Parsing files.ipynb",
      "provenance": [],
      "authorship_tag": "ABX9TyN832819aY6a5kNHPYNtQJY",
      "include_colab_link": true
    },
    "kernelspec": {
      "name": "python3",
      "display_name": "Python 3"
    },
    "language_info": {
      "name": "python"
    }
  },
  "cells": [
    {
      "cell_type": "markdown",
      "metadata": {
        "id": "view-in-github",
        "colab_type": "text"
      },
      "source": [
        "<a href=\"https://colab.research.google.com/github/vinayak2019/Parsing_Files/blob/main/Parsing_files.ipynb\" target=\"_parent\"><img src=\"https://colab.research.google.com/assets/colab-badge.svg\" alt=\"Open In Colab\"/></a>"
      ]
    },
    {
      "cell_type": "markdown",
      "source": [
        "We will use pymatgen, a python package, to parse the files from VASP and Gaussian. pymatgen is well-documented which makes it easy to use."
      ],
      "metadata": {
        "id": "zBvBeilY3eve"
      }
    },
    {
      "cell_type": "code",
      "source": [
        "# install pymatgen\n",
        "!pip install pymatgen"
      ],
      "metadata": {
        "colab": {
          "base_uri": "https://localhost:8080/"
        },
        "id": "n74YJzdY3bnj",
        "outputId": "11ae2c2a-220f-410a-a1ae-01c8d759ea4d"
      },
      "execution_count": null,
      "outputs": [
        {
          "output_type": "stream",
          "name": "stdout",
          "text": [
            "Collecting pymatgen\n",
            "  Downloading pymatgen-2022.0.17.tar.gz (40.6 MB)\n",
            "\u001b[K     |████████████████████████████████| 40.6 MB 1.2 MB/s \n",
            "\u001b[?25h  Installing build dependencies ... \u001b[?25l\u001b[?25hdone\n",
            "  Getting requirements to build wheel ... \u001b[?25l\u001b[?25hdone\n",
            "  Installing backend dependencies ... \u001b[?25l\u001b[?25hdone\n",
            "    Preparing wheel metadata ... \u001b[?25l\u001b[?25hdone\n",
            "Requirement already satisfied: palettable>=3.1.1 in /usr/local/lib/python3.7/dist-packages (from pymatgen) (3.3.0)\n",
            "Requirement already satisfied: sympy in /usr/local/lib/python3.7/dist-packages (from pymatgen) (1.7.1)\n",
            "Requirement already satisfied: networkx>=2.2 in /usr/local/lib/python3.7/dist-packages (from pymatgen) (2.6.3)\n",
            "Requirement already satisfied: numpy>=1.20.1 in /usr/local/lib/python3.7/dist-packages (from pymatgen) (1.21.5)\n",
            "Collecting ruamel.yaml>=0.15.6\n",
            "  Downloading ruamel.yaml-0.17.21-py3-none-any.whl (109 kB)\n",
            "\u001b[K     |████████████████████████████████| 109 kB 46.3 MB/s \n",
            "\u001b[?25hRequirement already satisfied: requests in /usr/local/lib/python3.7/dist-packages (from pymatgen) (2.23.0)\n",
            "Collecting uncertainties>=3.1.4\n",
            "  Downloading uncertainties-3.1.6-py2.py3-none-any.whl (98 kB)\n",
            "\u001b[K     |████████████████████████████████| 98 kB 7.5 MB/s \n",
            "\u001b[?25hRequirement already satisfied: typing-extensions>=3.7.4.3 in /usr/local/lib/python3.7/dist-packages (from pymatgen) (3.10.0.2)\n",
            "Requirement already satisfied: plotly>=4.5.0 in /usr/local/lib/python3.7/dist-packages (from pymatgen) (5.5.0)\n",
            "Collecting monty>=3.0.2\n",
            "  Downloading monty-2022.1.19-py3-none-any.whl (65 kB)\n",
            "\u001b[K     |████████████████████████████████| 65 kB 3.7 MB/s \n",
            "\u001b[?25hRequirement already satisfied: tabulate in /usr/local/lib/python3.7/dist-packages (from pymatgen) (0.8.9)\n",
            "Collecting scipy>=1.5.0\n",
            "  Downloading scipy-1.7.3-cp37-cp37m-manylinux_2_12_x86_64.manylinux2010_x86_64.whl (38.1 MB)\n",
            "\u001b[K     |████████████████████████████████| 38.1 MB 1.5 MB/s \n",
            "\u001b[?25hRequirement already satisfied: matplotlib>=1.5 in /usr/local/lib/python3.7/dist-packages (from pymatgen) (3.2.2)\n",
            "Collecting spglib>=1.9.9.44\n",
            "  Downloading spglib-1.16.3-cp37-cp37m-manylinux_2_17_x86_64.manylinux2014_x86_64.whl (292 kB)\n",
            "\u001b[K     |████████████████████████████████| 292 kB 47.7 MB/s \n",
            "\u001b[?25hRequirement already satisfied: pandas in /usr/local/lib/python3.7/dist-packages (from pymatgen) (1.3.5)\n",
            "Requirement already satisfied: python-dateutil>=2.1 in /usr/local/lib/python3.7/dist-packages (from matplotlib>=1.5->pymatgen) (2.8.2)\n",
            "Requirement already satisfied: pyparsing!=2.0.4,!=2.1.2,!=2.1.6,>=2.0.1 in /usr/local/lib/python3.7/dist-packages (from matplotlib>=1.5->pymatgen) (3.0.7)\n",
            "Requirement already satisfied: kiwisolver>=1.0.1 in /usr/local/lib/python3.7/dist-packages (from matplotlib>=1.5->pymatgen) (1.3.2)\n",
            "Requirement already satisfied: cycler>=0.10 in /usr/local/lib/python3.7/dist-packages (from matplotlib>=1.5->pymatgen) (0.11.0)\n",
            "Requirement already satisfied: tenacity>=6.2.0 in /usr/local/lib/python3.7/dist-packages (from plotly>=4.5.0->pymatgen) (8.0.1)\n",
            "Requirement already satisfied: six in /usr/local/lib/python3.7/dist-packages (from plotly>=4.5.0->pymatgen) (1.15.0)\n",
            "Collecting ruamel.yaml.clib>=0.2.6\n",
            "  Downloading ruamel.yaml.clib-0.2.6-cp37-cp37m-manylinux1_x86_64.whl (546 kB)\n",
            "\u001b[K     |████████████████████████████████| 546 kB 31.1 MB/s \n",
            "\u001b[?25hRequirement already satisfied: future in /usr/local/lib/python3.7/dist-packages (from uncertainties>=3.1.4->pymatgen) (0.16.0)\n",
            "Requirement already satisfied: pytz>=2017.3 in /usr/local/lib/python3.7/dist-packages (from pandas->pymatgen) (2018.9)\n",
            "Requirement already satisfied: chardet<4,>=3.0.2 in /usr/local/lib/python3.7/dist-packages (from requests->pymatgen) (3.0.4)\n",
            "Requirement already satisfied: urllib3!=1.25.0,!=1.25.1,<1.26,>=1.21.1 in /usr/local/lib/python3.7/dist-packages (from requests->pymatgen) (1.24.3)\n",
            "Requirement already satisfied: idna<3,>=2.5 in /usr/local/lib/python3.7/dist-packages (from requests->pymatgen) (2.10)\n",
            "Requirement already satisfied: certifi>=2017.4.17 in /usr/local/lib/python3.7/dist-packages (from requests->pymatgen) (2021.10.8)\n",
            "Requirement already satisfied: mpmath>=0.19 in /usr/local/lib/python3.7/dist-packages (from sympy->pymatgen) (1.2.1)\n",
            "Building wheels for collected packages: pymatgen\n",
            "  Building wheel for pymatgen (PEP 517) ... \u001b[?25l\u001b[?25hdone\n",
            "  Created wheel for pymatgen: filename=pymatgen-2022.0.17-cp37-cp37m-linux_x86_64.whl size=41841034 sha256=3813990a97e1451bc8899f08610267668348665f5e2088bac621dcc34e478603\n",
            "  Stored in directory: /root/.cache/pip/wheels/cf/f6/22/58a9be23c5f1b452770e02ff42047175eaf0f9c2f15219fc76\n",
            "Successfully built pymatgen\n",
            "Installing collected packages: ruamel.yaml.clib, uncertainties, spglib, scipy, ruamel.yaml, monty, pymatgen\n",
            "  Attempting uninstall: scipy\n",
            "    Found existing installation: scipy 1.4.1\n",
            "    Uninstalling scipy-1.4.1:\n",
            "      Successfully uninstalled scipy-1.4.1\n",
            "\u001b[31mERROR: pip's dependency resolver does not currently take into account all the packages that are installed. This behaviour is the source of the following dependency conflicts.\n",
            "albumentations 0.1.12 requires imgaug<0.2.7,>=0.2.5, but you have imgaug 0.2.9 which is incompatible.\u001b[0m\n",
            "Successfully installed monty-2022.1.19 pymatgen-2022.0.17 ruamel.yaml-0.17.21 ruamel.yaml.clib-0.2.6 scipy-1.7.3 spglib-1.16.3 uncertainties-3.1.6\n"
          ]
        }
      ]
    },
    {
      "cell_type": "code",
      "source": [
        "# fetch the required files from GitHub\n",
        "!git clone https://github.com/vinayak2019/Parsing_Files\n",
        "!tar -xf  Parsing_Files/vasp/vasprun.xml.tar.gz -C Parsing_Files/vasp/"
      ],
      "metadata": {
        "colab": {
          "base_uri": "https://localhost:8080/"
        },
        "id": "62cXD-3Mb8kS",
        "outputId": "5acff6ed-1f4e-47bf-a392-a81e0abbd230"
      },
      "execution_count": 27,
      "outputs": [
        {
          "output_type": "stream",
          "name": "stdout",
          "text": [
            "Cloning into 'Parsing_Files'...\n",
            "remote: Enumerating objects: 25, done.\u001b[K\n",
            "remote: Counting objects: 100% (25/25), done.\u001b[K\n",
            "remote: Compressing objects: 100% (21/21), done.\u001b[K\n",
            "remote: Total 25 (delta 5), reused 0 (delta 0), pack-reused 0\u001b[K\n",
            "Unpacking objects: 100% (25/25), done.\n"
          ]
        }
      ]
    },
    {
      "cell_type": "markdown",
      "source": [
        "# **Parsing VASP files**"
      ],
      "metadata": {
        "id": "eiwBbSXa2vGt"
      }
    },
    {
      "cell_type": "markdown",
      "source": [
        "The Vienna Ab initio Simulation Package: atomic scale materials modelling from first principles.\n",
        "(https://www.vasp.at/)"
      ],
      "metadata": {
        "id": "MIlIM-Ao4Sws"
      }
    },
    {
      "cell_type": "code",
      "source": [
        "from pymatgen.io.vasp import Vasprun"
      ],
      "metadata": {
        "id": "GMebKle8p2Pm"
      },
      "execution_count": 34,
      "outputs": []
    },
    {
      "cell_type": "code",
      "source": [
        "vasprun = Vasprun(\"/content/Parsing_Files/vasp/vasprun.xml\")"
      ],
      "metadata": {
        "id": "4GRVwkdAp6Sn",
        "colab": {
          "base_uri": "https://localhost:8080/"
        },
        "outputId": "3a058663-8dd4-49b3-d653-326ad6e806dd"
      },
      "execution_count": 35,
      "outputs": [
        {
          "output_type": "stream",
          "name": "stderr",
          "text": [
            "/usr/local/lib/python3.7/dist-packages/pymatgen/io/vasp/outputs.py:1057: UserWarning: No POTCAR file with matching TITEL fields was found in /content/Parsing_Files/vasp\n",
            "  warnings.warn(\"No POTCAR file with matching TITEL fields\" \" was found in {}\".format(os.path.abspath(p)))\n"
          ]
        }
      ]
    },
    {
      "cell_type": "code",
      "source": [
        "dir(vasprun)"
      ],
      "metadata": {
        "colab": {
          "base_uri": "https://localhost:8080/"
        },
        "id": "373tI8xUvhvs",
        "outputId": "0659d67e-3d8a-4fcd-86c0-ee24ce11d360"
      },
      "execution_count": 36,
      "outputs": [
        {
          "output_type": "execute_result",
          "data": {
            "text/plain": [
              "['REDIRECT',\n",
              " '__class__',\n",
              " '__delattr__',\n",
              " '__dict__',\n",
              " '__dir__',\n",
              " '__doc__',\n",
              " '__eq__',\n",
              " '__format__',\n",
              " '__ge__',\n",
              " '__get_validators__',\n",
              " '__getattribute__',\n",
              " '__gt__',\n",
              " '__hash__',\n",
              " '__init__',\n",
              " '__init_subclass__',\n",
              " '__le__',\n",
              " '__lt__',\n",
              " '__modify_schema__',\n",
              " '__module__',\n",
              " '__ne__',\n",
              " '__new__',\n",
              " '__reduce__',\n",
              " '__reduce_ex__',\n",
              " '__repr__',\n",
              " '__setattr__',\n",
              " '__sizeof__',\n",
              " '__str__',\n",
              " '__subclasshook__',\n",
              " '__weakref__',\n",
              " '_parse',\n",
              " '_parse_atominfo',\n",
              " '_parse_calculation',\n",
              " '_parse_chemical_shielding_calculation',\n",
              " '_parse_diel',\n",
              " '_parse_dos',\n",
              " '_parse_dynmat',\n",
              " '_parse_eigen',\n",
              " '_parse_kpoints',\n",
              " '_parse_optical_transition',\n",
              " '_parse_params',\n",
              " '_parse_projected_eigen',\n",
              " '_parse_structure',\n",
              " 'actual_kpoints',\n",
              " 'actual_kpoints_weights',\n",
              " 'as_dict',\n",
              " 'atomic_symbols',\n",
              " 'calculate_efermi',\n",
              " 'complete_dos',\n",
              " 'converged',\n",
              " 'converged_electronic',\n",
              " 'converged_ionic',\n",
              " 'dielectric',\n",
              " 'dielectric_data',\n",
              " 'dos_has_errors',\n",
              " 'efermi',\n",
              " 'eigenvalue_band_properties',\n",
              " 'eigenvalues',\n",
              " 'epsilon_ionic',\n",
              " 'epsilon_static',\n",
              " 'epsilon_static_wolfe',\n",
              " 'exception_on_bad_xml',\n",
              " 'filename',\n",
              " 'final_energy',\n",
              " 'final_structure',\n",
              " 'from_dict',\n",
              " 'generator',\n",
              " 'get_band_structure',\n",
              " 'get_computed_entry',\n",
              " 'get_potcars',\n",
              " 'get_trajectory',\n",
              " 'hubbards',\n",
              " 'idos',\n",
              " 'incar',\n",
              " 'initial_structure',\n",
              " 'ionic_step_offset',\n",
              " 'ionic_step_skip',\n",
              " 'ionic_steps',\n",
              " 'is_hubbard',\n",
              " 'is_spin',\n",
              " 'kpoints',\n",
              " 'nionic_steps',\n",
              " 'occu_tol',\n",
              " 'optical_absorption_coeff',\n",
              " 'other_dielectric',\n",
              " 'parameters',\n",
              " 'pdos',\n",
              " 'potcar_spec',\n",
              " 'potcar_symbols',\n",
              " 'projected_eigenvalues',\n",
              " 'projected_magnetisation',\n",
              " 'run_type',\n",
              " 'separate_spins',\n",
              " 'structures',\n",
              " 'tdos',\n",
              " 'to_json',\n",
              " 'unsafe_hash',\n",
              " 'update_charge_from_potcar',\n",
              " 'update_potcar_spec',\n",
              " 'validate_monty',\n",
              " 'vasp_version']"
            ]
          },
          "metadata": {},
          "execution_count": 36
        }
      ]
    },
    {
      "cell_type": "code",
      "source": [
        "# check whether calculation is converged\n",
        "vasprun.converged_electronic"
      ],
      "metadata": {
        "colab": {
          "base_uri": "https://localhost:8080/"
        },
        "id": "yDgIbVLjv3YF",
        "outputId": "daa4a465-b2c2-4110-f4e5-409987d56ba0"
      },
      "execution_count": 39,
      "outputs": [
        {
          "output_type": "execute_result",
          "data": {
            "text/plain": [
              "True"
            ]
          },
          "metadata": {},
          "execution_count": 39
        }
      ]
    },
    {
      "cell_type": "code",
      "source": [
        "# get final energy\n",
        "vasprun.final_energy"
      ],
      "metadata": {
        "colab": {
          "base_uri": "https://localhost:8080/"
        },
        "id": "AURoAM7Mvrl2",
        "outputId": "428183a6-7740-4e9b-84f6-95346d88d27b"
      },
      "execution_count": 37,
      "outputs": [
        {
          "output_type": "stream",
          "name": "stderr",
          "text": [
            "/usr/local/lib/python3.7/dist-packages/pymatgen/io/vasp/outputs.py:623: UserWarning: Final e_wo_entrp differs from the final electronic step. VASP may have included some corrections, e.g., vdw. Vasprun will return the final e_wo_entrp, i.e., including corrections in such instances.\n",
            "  \"Final e_wo_entrp differs from the final \"\n"
          ]
        },
        {
          "output_type": "execute_result",
          "data": {
            "text/plain": [
              "-612.04228636"
            ]
          },
          "metadata": {},
          "execution_count": 37
        }
      ]
    },
    {
      "cell_type": "code",
      "source": [
        "# plotting density of states\n",
        "from pymatgen.electronic_structure.plotter import DosPlotter\n",
        "\n",
        "tdos = vasprun.tdos\n",
        "plotter = DosPlotter(sigma=0.1)\n",
        "plotter.add_dos(\"Total DOS\", tdos)\n",
        "plotter.show()"
      ],
      "metadata": {
        "colab": {
          "base_uri": "https://localhost:8080/",
          "height": 585
        },
        "id": "ukspLg_nwOsQ",
        "outputId": "8b1d69a0-4173-4cb9-e777-2f9771f4b26b"
      },
      "execution_count": 46,
      "outputs": [
        {
          "output_type": "display_data",
          "data": {
            "image/png": "[encoded data removed]",
            "text/plain": [
              "<Figure size 864x576 with 1 Axes>"
            ]
          },
          "metadata": {}
        }
      ]
    },
    {
      "cell_type": "code",
      "source": [
        "from pymatgen.io.vasp import Outcar\n",
        "\n",
        "outcar = Outcar(\"/content/Parsing_Files/vasp/OUTCAR\")"
      ],
      "metadata": {
        "id": "ws-1ciPJw4BD"
      },
      "execution_count": 48,
      "outputs": []
    },
    {
      "cell_type": "code",
      "source": [
        "outcar.run_stats"
      ],
      "metadata": {
        "colab": {
          "base_uri": "https://localhost:8080/"
        },
        "id": "-z4J9etZxQli",
        "outputId": "9ebdc52a-b889-4365-fa5d-20074dbdd70c"
      },
      "execution_count": 57,
      "outputs": [
        {
          "output_type": "execute_result",
          "data": {
            "text/plain": [
              "{'Average memory used (kb)': 0.0,\n",
              " 'Elapsed time (sec)': 537.543,\n",
              " 'Maximum memory used (kb)': 411408.0,\n",
              " 'System time (sec)': 30.046,\n",
              " 'Total CPU time used (sec)': 534.446,\n",
              " 'User time (sec)': 504.399,\n",
              " 'cores': '16'}"
            ]
          },
          "metadata": {},
          "execution_count": 57
        }
      ]
    },
    {
      "cell_type": "markdown",
      "source": [
        "# **Parsing Gaussian files**"
      ],
      "metadata": {
        "id": "LMVdFd-xwdNd"
      }
    },
    {
      "cell_type": "markdown",
      "source": [
        "Gaussian 16 is the latest in the Gaussian series of programs. It provides state-of-the-art capabilities for electronic structure modeling. Gaussian 16 is licensed for a wide variety of computer systems. All versions of Gaussian 16 contain every scientific/modeling feature, and none imposes any artificial limitations on calculations other than your computing resources and patience. https://gaussian.com/gaussian16/"
      ],
      "metadata": {
        "id": "GZNEPgUHwqPM"
      }
    },
    {
      "cell_type": "markdown",
      "source": [
        "## **pymatgen**"
      ],
      "metadata": {
        "id": "erz1YaYZx-O6"
      }
    },
    {
      "cell_type": "code",
      "source": [
        "from pymatgen.io.gaussian  import GaussianOutput"
      ],
      "metadata": {
        "id": "7iCZnYqeeBsu"
      },
      "execution_count": null,
      "outputs": []
    },
    {
      "cell_type": "code",
      "source": [
        "# reading the log file\n",
        "gout = GaussianOutput(\"/content/Parsing_Files/gaussian/tddft.log\")"
      ],
      "metadata": {
        "id": "qNgKY-n6eIPV"
      },
      "execution_count": null,
      "outputs": []
    },
    {
      "cell_type": "code",
      "source": [
        "# looking at all the methods available\n",
        "dir(gout)"
      ],
      "metadata": {
        "colab": {
          "base_uri": "https://localhost:8080/"
        },
        "id": "a-I5zrY3eW8K",
        "outputId": "b01a938c-b852-4189-c51b-c471af8a5428"
      },
      "execution_count": null,
      "outputs": [
        {
          "output_type": "execute_result",
          "data": {
            "text/plain": [
              "['Mulliken_charges',\n",
              " '__class__',\n",
              " '__delattr__',\n",
              " '__dict__',\n",
              " '__dir__',\n",
              " '__doc__',\n",
              " '__eq__',\n",
              " '__format__',\n",
              " '__ge__',\n",
              " '__getattribute__',\n",
              " '__gt__',\n",
              " '__hash__',\n",
              " '__init__',\n",
              " '__init_subclass__',\n",
              " '__le__',\n",
              " '__lt__',\n",
              " '__module__',\n",
              " '__ne__',\n",
              " '__new__',\n",
              " '__reduce__',\n",
              " '__reduce_ex__',\n",
              " '__repr__',\n",
              " '__setattr__',\n",
              " '__sizeof__',\n",
              " '__str__',\n",
              " '__subclasshook__',\n",
              " '__weakref__',\n",
              " '_check_pcm',\n",
              " '_parse',\n",
              " 'as_dict',\n",
              " 'basis_set',\n",
              " 'bond_orders',\n",
              " 'cart_forces',\n",
              " 'charge',\n",
              " 'corrections',\n",
              " 'dieze_tag',\n",
              " 'eigenvalues',\n",
              " 'electrons',\n",
              " 'energies',\n",
              " 'errors',\n",
              " 'filename',\n",
              " 'final_energy',\n",
              " 'final_structure',\n",
              " 'frequencies',\n",
              " 'functional',\n",
              " 'get_scan_plot',\n",
              " 'get_spectre_plot',\n",
              " 'hessian',\n",
              " 'is_pcm',\n",
              " 'is_spin',\n",
              " 'link0',\n",
              " 'num_basis_func',\n",
              " 'opt_structures',\n",
              " 'pcm',\n",
              " 'properly_terminated',\n",
              " 'read_excitation_energies',\n",
              " 'read_scan',\n",
              " 'resumes',\n",
              " 'route_parameters',\n",
              " 'save_scan_plot',\n",
              " 'save_spectre_plot',\n",
              " 'spin_multiplicity',\n",
              " 'stationary_type',\n",
              " 'structures',\n",
              " 'structures_input_orientation',\n",
              " 'title',\n",
              " 'to_input']"
            ]
          },
          "metadata": {},
          "execution_count": 10
        }
      ]
    },
    {
      "cell_type": "code",
      "source": [
        "# getting the final energy\n",
        "gout.final_energy"
      ],
      "metadata": {
        "colab": {
          "base_uri": "https://localhost:8080/"
        },
        "id": "_Yf0ox99eUhO",
        "outputId": "e4e7ce7d-3a52-4c6e-ffad-a1c5bba5c303"
      },
      "execution_count": null,
      "outputs": [
        {
          "output_type": "execute_result",
          "data": {
            "text/plain": [
              "-1507.63190069"
            ]
          },
          "metadata": {},
          "execution_count": 11
        }
      ]
    },
    {
      "cell_type": "code",
      "source": [
        "# final structure\n",
        "gout.final_structure"
      ],
      "metadata": {
        "colab": {
          "base_uri": "https://localhost:8080/"
        },
        "id": "HY_JDORkenad",
        "outputId": "871e207a-c6c7-4a9a-8117-5e2315e26bb2"
      },
      "execution_count": null,
      "outputs": [
        {
          "output_type": "execute_result",
          "data": {
            "text/plain": [
              "Molecule Summary\n",
              "Site: C (-4.0049, -0.0094, -0.0001)\n",
              "Site: C (-2.8105, -0.0084, -0.0002)\n",
              "Site: C (-1.3900, -0.0046, -0.0001)\n",
              "Site: C (-0.7067, 1.2030, -0.0000)\n",
              "Site: C (-0.6988, -1.2077, -0.0002)\n",
              "Site: C (-1.3907, 2.4419, 0.0000)\n",
              "Site: C (0.6988, 1.2077, 0.0000)\n",
              "Site: C (0.7067, -1.2030, -0.0001)\n",
              "Site: C (-1.3745, -2.4510, -0.0003)\n",
              "Site: H (-2.4630, 2.4302, -0.0000)\n",
              "Site: C (-0.7168, 3.5977, 0.0001)\n",
              "Site: C (1.3900, 0.0046, -0.0000)\n",
              "Site: C (1.3745, 2.4510, 0.0001)\n",
              "Site: C (1.3907, -2.4419, -0.0002)\n",
              "Site: C (-0.6931, -3.6024, -0.0004)\n",
              "Site: H (-2.4468, -2.4460, -0.0003)\n",
              "Site: C (0.6931, 3.6024, 0.0002)\n",
              "Site: C (2.8105, 0.0084, 0.0000)\n",
              "Site: H (2.4468, 2.4460, 0.0002)\n",
              "Site: H (2.4630, -2.4302, -0.0002)\n",
              "Site: C (0.7168, -3.5977, -0.0003)\n",
              "Site: H (-1.2195, -4.5376, -0.0004)\n",
              "Site: H (1.2195, 4.5376, 0.0003)\n",
              "Site: C (4.0049, 0.0094, 0.0001)\n",
              "Site: H (-1.2495, 4.5294, 0.0002)\n",
              "Site: H (1.2495, -4.5294, -0.0004)\n",
              "Site: Si (-5.8429, -0.0031, 0.0001)\n",
              "Site: C (-6.4243, -0.8770, -1.5241)\n",
              "Site: C (-6.4068, 1.7598, 0.0024)\n",
              "Site: C (-6.4241, -0.8809, 1.5221)\n",
              "Site: Si (5.8429, 0.0031, 0.0001)\n",
              "Site: C (6.4068, -1.7598, -0.0030)\n",
              "Site: C (6.4242, 0.8763, 1.5248)\n",
              "Site: C (6.4242, 0.8817, -1.5214)\n",
              "Site: H (6.0452, -2.2836, 0.8716)\n",
              "Site: H (7.4878, -1.8155, -0.0031)\n",
              "Site: H (6.0452, -2.2805, -0.8794)\n",
              "Site: H (6.0589, 0.3833, 2.4155)\n",
              "Site: H (6.0735, 1.8993, 1.5433)\n",
              "Site: H (7.5056, 0.8919, 1.5682)\n",
              "Site: H (-6.0592, -0.3845, -2.4151)\n",
              "Site: H (-7.5058, -0.8927, -1.5674)\n",
              "Site: H (-6.0736, -1.9000, -1.5421)\n",
              "Site: H (-6.0734, -1.9040, 1.5374)\n",
              "Site: H (-7.5056, -0.8967, 1.5656)\n",
              "Site: H (-6.0587, -0.3908, 2.4143)\n",
              "Site: H (-6.0452, 2.2832, -0.8725)\n",
              "Site: H (-6.0451, 2.2809, 0.8786)\n",
              "Site: H (-7.4878, 1.8155, 0.0025)\n",
              "Site: H (6.0590, 0.3919, -2.4139)\n",
              "Site: H (7.5057, 0.8975, -1.5648)\n",
              "Site: H (6.0736, 1.9048, -1.5363)"
            ]
          },
          "metadata": {},
          "execution_count": 12
        }
      ]
    },
    {
      "cell_type": "code",
      "execution_count": null,
      "metadata": {
        "id": "NdThnQWPwYE6",
        "colab": {
          "base_uri": "https://localhost:8080/"
        },
        "outputId": "41897478-85ed-4e68-915c-35ed51045045"
      },
      "outputs": [
        {
          "output_type": "execute_result",
          "data": {
            "text/plain": [
              "[(3.4772, 356.57, 0.7094),\n",
              " (4.5538, 272.27, 0.0399),\n",
              " (5.5164, 224.75, 0.0001),\n",
              " (5.5533, 223.26, 0.0),\n",
              " (5.5682, 222.66, 0.1633),\n",
              " (5.6441, 219.67, 0.0),\n",
              " (5.7264, 216.51, 2.1826),\n",
              " (6.0133, 206.18, 0.0),\n",
              " (6.0691, 204.29, 0.0),\n",
              " (6.0823, 203.84, 0.0016),\n",
              " (6.6186, 187.33, 0.1568),\n",
              " (6.822, 181.74, 0.3013),\n",
              " (6.8475, 181.07, 0.0),\n",
              " (6.8841, 180.1, 0.0),\n",
              " (7.2298, 171.49, 0.0021)]"
            ]
          },
          "metadata": {},
          "execution_count": 15
        }
      ],
      "source": [
        "# TDDFT excitations\n",
        "gout.read_excitation_energies()"
      ]
    },
    {
      "cell_type": "markdown",
      "source": [
        "## **Generic text parsing**"
      ],
      "metadata": {
        "id": "dn9FZrjFyKmI"
      }
    },
    {
      "cell_type": "markdown",
      "source": [
        "We will use regular expressions for parsing text files.\n",
        "\n",
        "The process for parsing is as follows - \n",
        "1.   Find a unique pattern for the start of parsing segment\n",
        "2.   Find a pattern for the end of segment\n",
        "1.   Read the file\n",
        "2.   Look for the line with start pattern\n",
        "1.   Starting the parsing code until end pattern is encountered\n",
        "\n",
        "\n",
        "\n",
        "\n",
        "\n",
        "\n",
        "\n",
        "\n",
        "\n",
        "\n",
        "\n"
      ],
      "metadata": {
        "id": "26IqA5xG7szU"
      }
    },
    {
      "cell_type": "code",
      "source": [
        "import re"
      ],
      "metadata": {
        "id": "JXPtDsilpRWc"
      },
      "execution_count": null,
      "outputs": []
    },
    {
      "cell_type": "code",
      "source": [
        "# We will parse the Mulliken charges for all atoms\n",
        "\n",
        "# Find the pattern\n",
        "start_pattern = re.compile(r'')"
      ],
      "metadata": {
        "id": "_tyW0zWPpfOf"
      },
      "execution_count": null,
      "outputs": []
    },
    {
      "cell_type": "code",
      "source": [
        "# The pattern at the end\n",
        "end_pattern = re.compile(r'')"
      ],
      "metadata": {
        "id": "CTAjzb-WphAG"
      },
      "execution_count": null,
      "outputs": []
    },
    {
      "cell_type": "code",
      "source": [
        "# read the file\n",
        "with open() as f:\n",
        "  lines = f.read()"
      ],
      "metadata": {
        "id": "j50RSYGypiQt"
      },
      "execution_count": null,
      "outputs": []
    },
    {
      "cell_type": "code",
      "source": [
        "# line with start pattern"
      ],
      "metadata": {
        "id": "F-JV330xpqpt"
      },
      "execution_count": null,
      "outputs": []
    },
    {
      "cell_type": "code",
      "source": [
        "# parse lines"
      ],
      "metadata": {
        "id": "0WEDBUtmptM_"
      },
      "execution_count": null,
      "outputs": []
    },
    {
      "cell_type": "code",
      "source": [
        "# parsed data"
      ],
      "metadata": {
        "id": "jxF-vqIqpw-n"
      },
      "execution_count": null,
      "outputs": []
    },
    {
      "cell_type": "markdown",
      "source": [
        "### **Exercise**\n",
        "\n",
        "Parse the Mulliken charges with hydrogens summed into heavy atoms"
      ],
      "metadata": {
        "id": "STNnGN_Y89wA"
      }
    },
    {
      "cell_type": "code",
      "source": [
        "# YOUR CODE HERE"
      ],
      "metadata": {
        "id": "T8XC9iXUfmoO"
      },
      "execution_count": null,
      "outputs": []
    }
  ]
}