{
  "nbformat": 4,
  "nbformat_minor": 0,
  "metadata": {
    "colab": {
      "name": "Parsing files.ipynb",
      "provenance": [],
      "authorship_tag": "ABX9TyN832819aY6a5kNHPYNtQJY",
      "include_colab_link": true
    },
    "kernelspec": {
      "name": "python3",
      "display_name": "Python 3"
    },
    "language_info": {
      "name": "python"
    }
  },
  "cells": [
    {
      "cell_type": "markdown",
      "metadata": {
        "id": "view-in-github",
        "colab_type": "text"
      },
      "source": [
        "<a href=\"https://colab.research.google.com/github/vinayak2019/Parsing_Files/blob/main/Parsing_files.ipynb\" target=\"_parent\"><img src=\"https://colab.research.google.com/assets/colab-badge.svg\" alt=\"Open In Colab\"/></a>"
      ]
    },
    {
      "cell_type": "markdown",
      "source": [
        "We will use pymatgen, a python package, to parse the files from VASP and Gaussian. pymatgen is well-documented which makes it easy to use."
      ],
      "metadata": {
        "id": "zBvBeilY3eve"
      }
    },
    {
      "cell_type": "code",
      "source": [
        "# install pymatgen\n",
        "!pip install pymatgen"
      ],
      "metadata": {
        "id": "n74YJzdY3bnj"
      },
      "execution_count": null,
      "outputs": []
    },
    {
      "cell_type": "code",
      "source": [
        "# fetch the required files from GitHub\n",
        "!git clone https://github.com/vinayak2019/Parsing_Files\n",
        "!tar -xf  Parsing_Files/vasp/vasprun.xml.tar.gz -C Parsing_Files/vasp/"
      ],
      "metadata": {
        "id": "62cXD-3Mb8kS"
      },
      "execution_count": null,
      "outputs": []
    },
    {
      "cell_type": "markdown",
      "source": [
        "# **Parsing VASP files**"
      ],
      "metadata": {
        "id": "eiwBbSXa2vGt"
      }
    },
    {
      "cell_type": "markdown",
      "source": [
        "The Vienna Ab initio Simulation Package: atomic scale materials modelling from first principles.\n",
        "(https://www.vasp.at/)"
      ],
      "metadata": {
        "id": "MIlIM-Ao4Sws"
      }
    },
    {
      "cell_type": "code",
      "source": [
        "from pymatgen.io.vasp import Vasprun"
      ],
      "metadata": {
        "id": "GMebKle8p2Pm"
      },
      "execution_count": null,
      "outputs": []
    },
    {
      "cell_type": "code",
      "source": [
        "vasprun = Vasprun(\"/content/Parsing_Files/vasp/vasprun.xml\")"
      ],
      "metadata": {
        "id": "4GRVwkdAp6Sn",
        "colab": {
          "base_uri": "https://localhost:8080/"
        },
        "outputId": "3a058663-8dd4-49b3-d653-326ad6e806dd"
      },
      "execution_count": null,
      "outputs": [
        {
          "output_type": "stream",
          "name": "stderr",
          "text": [
            "/usr/local/lib/python3.7/dist-packages/pymatgen/io/vasp/outputs.py:1057: UserWarning: No POTCAR file with matching TITEL fields was found in /content/Parsing_Files/vasp\n",
            "  warnings.warn(\"No POTCAR file with matching TITEL fields\" \" was found in {}\".format(os.path.abspath(p)))\n"
          ]
        }
      ]
    },
    {
      "cell_type": "code",
      "source": [
        "dir(vasprun)"
      ],
      "metadata": {
        "id": "373tI8xUvhvs"
      },
      "execution_count": null,
      "outputs": []
    },
    {
      "cell_type": "code",
      "source": [
        "# check whether calculation is converged\n",
        "vasprun.converged_electronic"
      ],
      "metadata": {
        "colab": {
          "base_uri": "https://localhost:8080/"
        },
        "id": "yDgIbVLjv3YF",
        "outputId": "daa4a465-b2c2-4110-f4e5-409987d56ba0"
      },
      "execution_count": null,
      "outputs": [
        {
          "output_type": "execute_result",
          "data": {
            "text/plain": [
              "True"
            ]
          },
          "metadata": {},
          "execution_count": 39
        }
      ]
    },
    {
      "cell_type": "code",
      "source": [
        "# get final energy\n",
        "vasprun.final_energy"
      ],
      "metadata": {
        "colab": {
          "base_uri": "https://localhost:8080/"
        },
        "id": "AURoAM7Mvrl2",
        "outputId": "428183a6-7740-4e9b-84f6-95346d88d27b"
      },
      "execution_count": null,
      "outputs": [
        {
          "output_type": "stream",
          "name": "stderr",
          "text": [
            "/usr/local/lib/python3.7/dist-packages/pymatgen/io/vasp/outputs.py:623: UserWarning: Final e_wo_entrp differs from the final electronic step. VASP may have included some corrections, e.g., vdw. Vasprun will return the final e_wo_entrp, i.e., including corrections in such instances.\n",
            "  \"Final e_wo_entrp differs from the final \"\n"
          ]
        },
        {
          "output_type": "execute_result",
          "data": {
            "text/plain": [
              "-612.04228636"
            ]
          },
          "metadata": {},
          "execution_count": 37
        }
      ]
    },
    {
      "cell_type": "code",
      "source": [
        "# plotting density of states\n",
        "from pymatgen.electronic_structure.plotter import DosPlotter\n",
        "\n",
        "tdos = vasprun.tdos\n",
        "plotter = DosPlotter(sigma=0.1)\n",
        "plotter.add_dos(\"Total DOS\", tdos)\n",
        "plotter.show()"
      ],
      "metadata": {
        "id": "ukspLg_nwOsQ"
      },
      "execution_count": null,
      "outputs": []
    },
    {
      "cell_type": "code",
      "source": [
        "from pymatgen.io.vasp import Outcar\n",
        "\n",
        "outcar = Outcar(\"/content/Parsing_Files/vasp/OUTCAR\")"
      ],
      "metadata": {
        "id": "ws-1ciPJw4BD"
      },
      "execution_count": null,
      "outputs": []
    },
    {
      "cell_type": "code",
      "source": [
        "outcar.run_stats"
      ],
      "metadata": {
        "colab": {
          "base_uri": "https://localhost:8080/"
        },
        "id": "-z4J9etZxQli",
        "outputId": "9ebdc52a-b889-4365-fa5d-20074dbdd70c"
      },
      "execution_count": null,
      "outputs": [
        {
          "output_type": "execute_result",
          "data": {
            "text/plain": [
              "{'Average memory used (kb)': 0.0,\n",
              " 'Elapsed time (sec)': 537.543,\n",
              " 'Maximum memory used (kb)': 411408.0,\n",
              " 'System time (sec)': 30.046,\n",
              " 'Total CPU time used (sec)': 534.446,\n",
              " 'User time (sec)': 504.399,\n",
              " 'cores': '16'}"
            ]
          },
          "metadata": {},
          "execution_count": 57
        }
      ]
    },
    {
      "cell_type": "markdown",
      "source": [
        "# **Parsing Gaussian files**"
      ],
      "metadata": {
        "id": "LMVdFd-xwdNd"
      }
    },
    {
      "cell_type": "markdown",
      "source": [
        "Gaussian 16 is the latest in the Gaussian series of programs. It provides state-of-the-art capabilities for electronic structure modeling. Gaussian 16 is licensed for a wide variety of computer systems. All versions of Gaussian 16 contain every scientific/modeling feature, and none imposes any artificial limitations on calculations other than your computing resources and patience. https://gaussian.com/gaussian16/"
      ],
      "metadata": {
        "id": "GZNEPgUHwqPM"
      }
    },
    {
      "cell_type": "markdown",
      "source": [
        "## **pymatgen**"
      ],
      "metadata": {
        "id": "erz1YaYZx-O6"
      }
    },
    {
      "cell_type": "code",
      "source": [
        "from pymatgen.io.gaussian  import GaussianOutput"
      ],
      "metadata": {
        "id": "7iCZnYqeeBsu"
      },
      "execution_count": null,
      "outputs": []
    },
    {
      "cell_type": "code",
      "source": [
        "# reading the log file\n",
        "gout = GaussianOutput(\"/content/Parsing_Files/gaussian/tddft.log\")"
      ],
      "metadata": {
        "id": "qNgKY-n6eIPV"
      },
      "execution_count": null,
      "outputs": []
    },
    {
      "cell_type": "code",
      "source": [
        "# looking at all the methods available\n",
        "dir(gout)"
      ],
      "metadata": {
        "id": "a-I5zrY3eW8K"
      },
      "execution_count": null,
      "outputs": []
    },
    {
      "cell_type": "code",
      "source": [
        "# getting the final energy\n",
        "gout.final_energy"
      ],
      "metadata": {
        "id": "_Yf0ox99eUhO"
      },
      "execution_count": null,
      "outputs": []
    },
    {
      "cell_type": "code",
      "source": [
        "# final structure\n",
        "gout.final_structure"
      ],
      "metadata": {
        "id": "HY_JDORkenad"
      },
      "execution_count": null,
      "outputs": []
    },
    {
      "cell_type": "code",
      "execution_count": null,
      "metadata": {
        "id": "NdThnQWPwYE6"
      },
      "outputs": [],
      "source": [
        "# TDDFT excitations\n",
        "gout.read_excitation_energies()"
      ]
    },
    {
      "cell_type": "markdown",
      "source": [
        "## **Generic text parsing**"
      ],
      "metadata": {
        "id": "dn9FZrjFyKmI"
      }
    },
    {
      "cell_type": "markdown",
      "source": [
        "We will use regular expressions for parsing text files.\n",
        "\n",
        "The process for parsing is as follows - \n",
        "1.   Find a unique pattern for the start of parsing segment\n",
        "2.   Find a pattern for the end of segment\n",
        "1.   Read the file\n",
        "2.   Look for the line with start pattern\n",
        "1.   Starting the parsing code until end pattern is encountered\n",
        "\n",
        "\n",
        "\n",
        "\n",
        "\n",
        "\n",
        "\n",
        "\n",
        "\n",
        "\n",
        "\n"
      ],
      "metadata": {
        "id": "26IqA5xG7szU"
      }
    },
    {
      "cell_type": "code",
      "source": [
        "import re"
      ],
      "metadata": {
        "id": "JXPtDsilpRWc"
      },
      "execution_count": null,
      "outputs": []
    },
    {
      "cell_type": "code",
      "source": [
        "# We will parse the Mulliken charges for all atoms\n",
        "\n",
        "# Find the pattern\n",
        "start_pattern = re.compile(r'')"
      ],
      "metadata": {
        "id": "_tyW0zWPpfOf"
      },
      "execution_count": null,
      "outputs": []
    },
    {
      "cell_type": "code",
      "source": [
        "# The pattern at the end\n",
        "end_pattern = re.compile(r'')"
      ],
      "metadata": {
        "id": "CTAjzb-WphAG"
      },
      "execution_count": null,
      "outputs": []
    },
    {
      "cell_type": "code",
      "source": [
        "# read the file\n",
        "with open() as f:\n",
        "  lines = f.read()"
      ],
      "metadata": {
        "id": "j50RSYGypiQt"
      },
      "execution_count": null,
      "outputs": []
    },
    {
      "cell_type": "code",
      "source": [
        "# line with start pattern"
      ],
      "metadata": {
        "id": "F-JV330xpqpt"
      },
      "execution_count": null,
      "outputs": []
    },
    {
      "cell_type": "code",
      "source": [
        "# parse lines"
      ],
      "metadata": {
        "id": "0WEDBUtmptM_"
      },
      "execution_count": null,
      "outputs": []
    },
    {
      "cell_type": "code",
      "source": [
        "# parsed data"
      ],
      "metadata": {
        "id": "jxF-vqIqpw-n"
      },
      "execution_count": null,
      "outputs": []
    },
    {
      "cell_type": "markdown",
      "source": [
        "### **Exercise**\n",
        "\n",
        "Parse the Mulliken charges with hydrogens summed into heavy atoms"
      ],
      "metadata": {
        "id": "STNnGN_Y89wA"
      }
    },
    {
      "cell_type": "code",
      "source": [
        "# YOUR CODE HERE"
      ],
      "metadata": {
        "id": "T8XC9iXUfmoO"
      },
      "execution_count": null,
      "outputs": []
    }
  ]
}